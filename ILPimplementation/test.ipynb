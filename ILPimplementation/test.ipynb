{
 "cells": [
  {
   "cell_type": "code",
   "execution_count": 1,
   "metadata": {},
   "outputs": [
    {
     "data": {
      "text/plain": [
       "'CQ2'"
      ]
     },
     "execution_count": 1,
     "metadata": {},
     "output_type": "execute_result"
    }
   ],
   "source": [
    "'CQ2'.split('_')[-1]"
   ]
  },
  {
   "cell_type": "code",
   "execution_count": 3,
   "metadata": {},
   "outputs": [
    {
     "data": {
      "text/plain": [
       "'CQ2'"
      ]
     },
     "execution_count": 3,
     "metadata": {},
     "output_type": "execute_result"
    }
   ],
   "source": [
    "'cp_CQ2'.split('_')[-1]"
   ]
  },
  {
   "cell_type": "code",
   "execution_count": 4,
   "metadata": {},
   "outputs": [
    {
     "data": {
      "text/plain": [
       "'CQ2'"
      ]
     },
     "execution_count": 4,
     "metadata": {},
     "output_type": "execute_result"
    }
   ],
   "source": [
    "'phi_CQ2'.split('_')[-1]"
   ]
  },
  {
   "cell_type": "code",
   "execution_count": null,
   "metadata": {},
   "outputs": [],
   "source": [
    "# -------------------------------------------------- Penalty Calculation with Detailed Conditions --------------------------------------------------\n",
    "\n",
    "# Define penalty variables for each time step\n",
    "p_t = {t: model.addVar(vtype=GRB.CONTINUOUS, name=f\"p_{t}\") for t in Tset}\n",
    "\n",
    "# Iterate through time steps except the last one\n",
    "for t in Tset[:-1]:\n",
    "    penalty = 0  # Initialize penalty\n",
    "    for v in Vset:\n",
    "        for j in Jset:\n",
    "            if y[v, j, t] == 1: # only there is a task, we check the next task\n",
    "                check_jump = False  # Used to track if the vessel move continue smoothly\n",
    "                # Case 1: If task j is in the set of line tasks (Lset)\n",
    "                if j in Lset:\n",
    "                    l = j # the line is the j\n",
    "                    tt = int(line_df[line_df['Line_No'] == l]['Time_underway_to_T'].iloc()[0])\n",
    "                    end_time = t + cal_duration(tt)\n",
    "                    t_p = end_time + 1 # Next task begin time \n",
    "\n",
    "                    for j_p in Jset:\n",
    "                        if y[v,j,t] * y[v,j_p,t_p] == 1:# there is a imidiate following task\n",
    "                            if j_p in Lset: # next task is line task\n",
    "                                # Z_p[l,w,t] defines the line task end wharf\n",
    "                                # z[w,l] defines the line task start wharf\n",
    "                                if gp.quicksum(Z_p[l,w,end_time] * z[w,j_p] for w in Wset) <= 0: # start location of j' isn't the same as the end location of j\n",
    "                                    check_jump = True\n",
    "                            else: # j' in B/Bplus/Bc\n",
    "                                w = j_p.split('_')[-1]\n",
    "                                if Z_p[l,w,end_time] * y[v,j_p,t_p] == 0: # start location of j' isn't the same as the end location of j\n",
    "                                    check_jump = True\n",
    "\n",
    "                # Case 2: If the task is a waiting, charging, or crew pause task\n",
    "                else:\n",
    "                    end_time = (t + cal_duration(Dc) if j in Bc else\n",
    "                                t)\n",
    "                    t_p = end_time + 1 # Next task begin time \n",
    "\n",
    "                    for j_p in Jset:\n",
    "                        if y[v,j,t] * y[v,j_p,t_p] == 1:# there is a imidiate following task\n",
    "                            if j_p in Lset: # next task is line task\n",
    "                                w = j.split('_')[-1]\n",
    "                                # z[w,l] defines the line task start wharf\n",
    "                                if y[v,j,t] * z[w,j_p] == 0: # start location of j' isn't the same as the end location of j\n",
    "                                    check_jump = True\n",
    "                            else: # j' in B/Bplus/Bc\n",
    "                                if j.split('_')[-1] != j_p.split('_')[-1]:# start location of j' isn't the same as the end location of j\n",
    "                                    check_jump = True\n",
    "                if check_jump == True:\n",
    "                    penalty += 1\n",
    "\n",
    "    # Apply the constraint for penalties\n",
    "    model.addConstr(p_t[t] >= penalty, name=f\"penalty_{t}\")\n"
   ]
  },
  {
   "cell_type": "code",
   "execution_count": null,
   "metadata": {},
   "outputs": [],
   "source": [
    "# -------------------------------------------------- Penalty Calculation with Detailed Conditions --------------------------------------------------\n",
    "\n",
    "# Define penalty variables for each time step\n",
    "p_t = {t: model.addVar(vtype=GRB.CONTINUOUS, name=f\"p_{t}\") for t in Tset}\n",
    "\n",
    "# Iterate through time steps except the last one\n",
    "for t in Tset[:-1]:\n",
    "    penalty_expr = []  # List to collect penalty terms\n",
    "\n",
    "    for v in Vset:\n",
    "        for j in Jset:\n",
    "            # Only check if the vessel is assigned to a task at time t\n",
    "            if y[v, j, t] == 1:\n",
    "                check_jump = False  # Track if the vessel moves smoothly\n",
    "\n",
    "                # Case 1: Task j is a line task\n",
    "                if j in Lset:\n",
    "                    l = j\n",
    "                    tt = int(line_df[line_df['Line_No'] == l]['Time_underway_to_T'].iloc[0])\n",
    "                    end_time = t + cal_duration(tt)\n",
    "                    t_p = end_time + 1  # Next task begin time\n",
    "\n",
    "                    for j_p in Jset:\n",
    "                        if y[v, j_p, t_p] == 1:  # There is an immediate following task\n",
    "                            if j_p in Lset:  # Next task is also a line task\n",
    "                                if gp.quicksum(Z_prime[l, w, end_time] * z[w, j_p] for w in Wset) <= 0:\n",
    "                                    check_jump = True\n",
    "                            else:  # j_p belongs to B/Bplus/Bc\n",
    "                                w = j_p.split('_')[-1]\n",
    "                                if Z_prime[l, w, end_time] * y[v, j_p, t_p] == 0:\n",
    "                                    check_jump = True\n",
    "\n",
    "                # Case 2: Task j is a waiting, charging, or crew pause task\n",
    "                else:\n",
    "                    end_time = t + cal_duration(Dc) if j in Bc else t\n",
    "                    t_p = end_time + 1  # Next task begin time\n",
    "\n",
    "                    for j_p in Jset:\n",
    "                        if y[v, j_p, t_p] == 1:  # There is an immediate following task\n",
    "                            if j_p in Lset:  # Next task is a line task\n",
    "                                w = j.split('_')[-1]\n",
    "                                if y[v, j, t] * z[w, j_p] == 0:\n",
    "                                    check_jump = True\n",
    "                            else:  # j_p belongs to B/Bplus/Bc\n",
    "                                if j.split('_')[-1] != j_p.split('_')[-1]:  # Different starting location\n",
    "                                    check_jump = True\n",
    "\n",
    "                # If a discontinuity is detected, add it to the penalty expression\n",
    "                if check_jump:\n",
    "                    penalty_expr.append(1)\n",
    "\n",
    "    # Apply the penalty constraint\n",
    "    model.addConstr(p_t[t] >= gp.quicksum(penalty_expr), name=f\"penalty_{t}\")\n",
    "\n",
    "# Define total penalty and update rebalancing time\n",
    "total_penalty = gp.quicksum(p_t[t] for t in Tset)\n",
    "rebalancing_time += total_penalty\n"
   ]
  },
  {
   "cell_type": "code",
   "execution_count": null,
   "metadata": {},
   "outputs": [],
   "source": [
    "import gurobipy as gp\n",
    "from gurobipy import GRB\n",
    "\n",
    "\n",
    "total_jumps = 0\n",
    "for v in Vset:\n",
    "    for t in Tset[:-1]:\n",
    "        # Find which wharf (if any) vessel v is assigned at time t.\n",
    "        wharf_t = None\n",
    "        for w in Wset:\n",
    "            if u[v, w, t].X > 0:\n",
    "                wharf_t = w\n",
    "                break  # assuming at most one is 1\n",
    "        \n",
    "        # Find which wharf (if any) vessel v is assigned at time t+1.\n",
    "        wharf_tp1 = None\n",
    "        for w in Wset:\n",
    "            if u[v, w, t+1].X > 0:\n",
    "                wharf_tp1 = w\n",
    "                break\n",
    "        \n",
    "        # Count a jump if the vessel is assigned at both times and the wharf changes.\n",
    "        if wharf_t is not None and wharf_tp1 is not None and wharf_t != wharf_tp1:\n",
    "            total_jumps += 1\n",
    "\n",
    "print(\"Total jump count:\", total_jumps)\n",
    "\n"
   ]
  }
 ],
 "metadata": {
  "kernelspec": {
   "display_name": "Python 3",
   "language": "python",
   "name": "python3"
  },
  "language_info": {
   "codemirror_mode": {
    "name": "ipython",
    "version": 3
   },
   "file_extension": ".py",
   "mimetype": "text/x-python",
   "name": "python",
   "nbconvert_exporter": "python",
   "pygments_lexer": "ipython3",
   "version": "3.10.11"
  }
 },
 "nbformat": 4,
 "nbformat_minor": 2
}
