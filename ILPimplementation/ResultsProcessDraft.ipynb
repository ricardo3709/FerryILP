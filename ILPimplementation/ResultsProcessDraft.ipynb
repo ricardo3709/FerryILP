{
 "cells": [
  {
   "cell_type": "code",
   "execution_count": null,
   "metadata": {},
   "outputs": [],
   "source": [
    "import pandas as pd\n",
    "import numpy as np\n",
    "from datetime import datetime, timedelta, time"
   ]
  },
  {
   "cell_type": "code",
   "execution_count": null,
   "metadata": {},
   "outputs": [],
   "source": [
    "# Station and wharves dataframe\n",
    "wharf_df = pd.read_csv('csv_inputs/wharf_info.csv')\n",
    "# lines dataframe\n",
    "line_df = pd.read_csv('csv_inputs/line_info.csv')\n",
    "line_df['First_sailing'] = pd.to_datetime(line_df['First_sailing'], format='%H:%M')\n",
    "# Wharf to wharf transit time dataframe\n",
    "tt_df = pd.read_csv('csv_inputs/rebalancing_times.csv',index_col='From/To')\n",
    "# Headways dataframe\n",
    "headway_df = pd.read_csv('csv_inputs/headways.csv')\n",
    "# vessels\n",
    "vessel_df = pd.read_csv('csv_inputs/vessel_info.csv')\n",
    "# charging berths dataframe\n",
    "charging_berth = pd.read_csv('csv_inputs/charging_berths.csv')\n",
    "\n",
    "# Simulation time parameters\n",
    "initial_time = time(5,30)\n",
    "period_length = 5  # mins\n",
    "total_operation_hours = 6  # hours\n",
    "\n",
    "# nc, Minimum num of crew breaks\n",
    "nc = 1\n",
    "\n",
    "# Dc, Crew break duration (fixed)\n",
    "Dc = 9  # mins\n",
    "\n",
    "# Tc, Maximum separation time for crew breaks\n",
    "Tc = 6 * 60  # mins\n",
    "\n",
    "# rv+, charging rate\n",
    "rv_plus = 2100 * period_length / 60 / 1100  # kW*h/kWh --> %\n",
    "\n",
    "# pc, Plugging/Unplugging time\n",
    "pc = 2  # mins\n",
    "\n"
   ]
  },
  {
   "cell_type": "markdown",
   "metadata": {},
   "source": [
    "# Functions"
   ]
  },
  {
   "cell_type": "code",
   "execution_count": null,
   "metadata": {},
   "outputs": [],
   "source": [
    "def cal_time(period_num):\n",
    "    \"\"\"\n",
    "    Calculates a new datetime based on an initial time and a given number of periods.\n",
    "    \n",
    "    Args:\n",
    "    period_num (int): The period number to calculate the time for.\n",
    "    initial_time (datetime.time): The starting time of the calculation.\n",
    "    period_length (int): The length of each period in minutes.\n",
    "    \n",
    "    Returns:\n",
    "    datetime.datetime: The calculated datetime.\n",
    "    \"\"\"\n",
    "    # Convert initial_time to a datetime object with today's date\n",
    "    initial_datetime = datetime.combine(datetime.today(), initial_time)\n",
    "    \n",
    "    # Calculate the total minutes to add\n",
    "    added_time = timedelta(minutes=int((period_num - 1) * period_length))\n",
    "    new_time = initial_datetime + added_time\n",
    "\n",
    "    return new_time\n"
   ]
  },
  {
   "cell_type": "code",
   "execution_count": null,
   "metadata": {},
   "outputs": [],
   "source": [
    "def cal_h(s, d, line): # copy from previous file\n",
    "    \"\"\"\n",
    "    Calculate the s-th sailing time starting from time 'd' for a specified 'line'.\n",
    "\n",
    "    This function retrieves headway periods for a specific line from a dataframe,\n",
    "    constructs a list of sailing times starting from time 'd', and returns the s-th\n",
    "    sailing time based on these intervals. It is used to project sailing schedules\n",
    "    based on a specified headway and start day.\n",
    "\n",
    "    Parameters:\n",
    "    s (int): The order of the sailing time to be retrieved (1st, 2nd, etc.).\n",
    "    d (int): The day from which sailing starts.\n",
    "    line (int): The line number for which headway data is to be used.\n",
    "\n",
    "    Returns:\n",
    "    int or None: The s-th sailing time in terms of the number of time periods\n",
    "                 since day 'd', or None if the index 's' is out of range or\n",
    "                 an error occurs in processing.\n",
    "\n",
    "    Note:\n",
    "    The function assumes `period_length` as a global variable that denotes the\n",
    "    length of each time period within the operational schedule.\n",
    "    \"\"\"\n",
    "\n",
    "    try:\n",
    "        # Retrieve the headway periods for the specified line and drop missing values\n",
    "        h = headway_df[f'h{line}'].dropna().tolist()\n",
    "        h_sd_ls = [d]  # Start the list with the initial day 'd'\n",
    "\n",
    "        # Calculate subsequent sailing times based on headway periods\n",
    "        for sailing_headway in h:\n",
    "            num_time_period = int(sailing_headway // period_length + 1)  # round up\n",
    "            h_sd_ls.append(h_sd_ls[-1] + num_time_period)\n",
    "\n",
    "        # Return the s-th sailing time if within bounds\n",
    "        if s-1 < len(h_sd_ls):\n",
    "            return h_sd_ls[s-1]\n",
    "        else:\n",
    "            return None\n",
    "    except Exception as e:\n",
    "        print(f\"An error occurred: {e}\")\n",
    "        return None"
   ]
  },
  {
   "cell_type": "code",
   "execution_count": null,
   "metadata": {},
   "outputs": [],
   "source": [
    "# Functions to replace and determine wharfs\n",
    "def start_wharf(wharf):\n",
    "    if wharf.isdigit():\n",
    "        return Start_wharf.get(wharf, wharf)\n",
    "    return wharf\n",
    "\n",
    "def end_wharf(row):\n",
    "    wharf = row['End_Wharf']\n",
    "    if row['Task'].isdigit():\n",
    "        line = int(row['Task'])\n",
    "        timetoT = int(line_df[line_df['Line_No'] == line]['Time_underway_to_T'].iloc()[0])\n",
    "        end_time = row['Start_Time'] + timetoT // period_length + 1\n",
    "        matching_rows = Zp_df[(Zp_df['Line'] == line) & (Zp_df['Time'] == end_time)]\n",
    "        if not matching_rows.empty:\n",
    "            wharf = matching_rows['Wharf'].iloc()[0]\n",
    "    return wharf\n",
    "\n",
    "def end_time(row):\n",
    "    if row['Task'].isdigit():\n",
    "        line = int(row['Task'])\n",
    "        duration = int(line_df[line_df['Line_No'] == line]['Line_duration'].iloc()[0])\n",
    "        return (cal_time(row['Start_Time']) + timedelta(minutes=duration)).strftime('%H:%M')\n",
    "    elif row['Task'] in ['Waiting', 'Charging']:\n",
    "        return (cal_time(row['Start_Time']) + timedelta(minutes=5)).strftime('%H:%M')\n",
    "    else:\n",
    "        return (cal_time(row['Start_Time']) + timedelta(minutes=Dc)).strftime('%H:%M')"
   ]
  },
  {
   "cell_type": "markdown",
   "metadata": {},
   "source": [
    "# Load results files"
   ]
  },
  {
   "cell_type": "code",
   "execution_count": null,
   "metadata": {},
   "outputs": [],
   "source": [
    "def load_and_process_data(filepath, split_columns, value_columns):\n",
    "    \"\"\"\n",
    "    Load data, remove unwanted characters, filter rows, split columns, and convert types.\n",
    "\n",
    "    Args:\n",
    "    filepath (str): Path to the CSV file.\n",
    "    split_columns (list): List of columns names after splitting the 'Variable' column.\n",
    "    value_columns (dict): Dictionary of columns to convert with their respective types.\n",
    "    \"\"\"\n",
    "    df = pd.read_csv(filepath)\n",
    "    df = df[df['Value'] == 1]\n",
    "    df['Variable'] = df['Variable'].str.replace(r\"[()']\", \"\", regex=True)\n",
    "    df[split_columns] = df['Variable'].str.split(',', expand=True)\n",
    "    for column, dtype in value_columns.items():\n",
    "        df[column] = df[column].astype(dtype)\n",
    "    return df\n",
    "\n",
    "# Load and process each DataFrame using the new function\n",
    "z_df = load_and_process_data('output_files/z_wj_results.csv',['Wharf', 'Line'],{'Line': int})\n",
    "\n",
    "Zp_df = load_and_process_data('output_files/Z_prime_lwt_results.csv',['Line', 'Wharf', 'Time'],{'Line': int, 'Time': int})\n",
    "\n",
    "Z_df = load_and_process_data('output_files/Z_lwt_results.csv',['Line', 'Wharf', 'Time'],{'Line': int, 'Time': int})\n",
    "\n"
   ]
  },
  {
   "cell_type": "code",
   "execution_count": null,
   "metadata": {},
   "outputs": [],
   "source": [
    "# start stations from line and wharf data\n",
    "Start_S = dict(zip(line_df['Line_No'].astype(str), line_df['O']))\n",
    "Start_S.update(dict(zip(wharf_df['Wharf_No'], wharf_df['Station'])))\n",
    "\n",
    "# end stations from line and wharf data\n",
    "End_S = dict(zip(line_df['Line_No'].astype(str), line_df['T']))\n",
    "End_S.update(dict(zip(wharf_df['Wharf_No'], wharf_df['Station'])))\n",
    "\n",
    "# start wharfs from z_df\n",
    "Start_wharf = dict(zip(z_df['Line'].astype(str), z_df['Wharf']))\n",
    "\n",
    "# end wharfs from Zp_df will be determined later"
   ]
  },
  {
   "cell_type": "code",
   "execution_count": null,
   "metadata": {},
   "outputs": [],
   "source": [
    "z_df"
   ]
  },
  {
   "cell_type": "markdown",
   "metadata": {},
   "source": [
    "# Timetable"
   ]
  },
  {
   "cell_type": "code",
   "execution_count": null,
   "metadata": {},
   "outputs": [],
   "source": [
    "# Load and preprocess x_df\n",
    "x_df = load_and_process_data('output_files/x_ld_results.csv',['Line', 'Time'],{'Line': int, 'Time': int})\n",
    "\n",
    "\n",
    "# List of lines from line_df and x_df\n",
    "lines = line_df['Line_No'].unique().tolist()\n",
    "solved_lines = x_df['Line'].unique().tolist()\n",
    "\n",
    "\n",
    "def cal_timetable(line):\n",
    "    # Check if the line exists and is solved\n",
    "    if line in lines and line in solved_lines:\n",
    "        # First sailing time and headways\n",
    "        d = x_df.loc[x_df['Line'] == line, 'Time'].iloc[0]\n",
    "        headways = headway_df[f'h{line}'].dropna().tolist()\n",
    "\n",
    "        times, locs, wharfs = [], [], []\n",
    "        \n",
    "        # Calculate timings for all sailings including first and subsequent ones\n",
    "        for s in range(len(headways)+1):\n",
    "            period = cal_h(s+1, d, line)  # Assuming cal_h is defined somewhere\n",
    "            sailing_time = cal_time(period)\n",
    "            \n",
    "            # Add sailing time, location and wharf\n",
    "            times.append(sailing_time)\n",
    "            locs.append(Start_S[str(line)])\n",
    "            wharfs.append(z_df[z_df['Line'] == line]['Wharf'].iloc()[0])\n",
    "\n",
    "            # Intermediate Stop\n",
    "            Intermediate_stop = line_df[line_df['Line_No'] == line]['I'].iloc()[0]\n",
    "            if pd.notna(Intermediate_stop):\n",
    "                timetoI = int(line_df[line_df['Line_No'] == line]['Time_underway_to_I'].iloc()[0])\n",
    "                arrival_time_I = sailing_time + timedelta(minutes=timetoI)\n",
    "                times.append(arrival_time_I)\n",
    "                locs.append(Intermediate_stop)\n",
    "                wharfs.append(z_df[z_df['Line'] == line]['Wharf'].iloc()[1])\n",
    "            \n",
    "            # Terminal Stop\n",
    "            timetoT = int(line_df[line_df['Line_No'] == line]['Time_underway_to_T'].iloc()[0])\n",
    "            arrival_time_T = sailing_time + timedelta(minutes=timetoT)\n",
    "            times.append(arrival_time_T)\n",
    "            locs.append(End_S[str(line)])\n",
    "            wharfs.append(Zp_df[(Zp_df['Line'] == line) & (Zp_df['Time'] == period + timetoT // period_length + 1)]['Wharf'].iloc()[0])\n",
    "\n",
    "        # Format times and create the DataFrame\n",
    "        formatted_times = [time.strftime('%H:%M') for time in times]\n",
    "        timetable = pd.DataFrame({\n",
    "            'Time': formatted_times,\n",
    "            'Station': locs,\n",
    "            'Wharf': wharfs\n",
    "        })\n",
    "        return timetable\n",
    "    \n",
    "    else:\n",
    "        print('Line not exist or unsolved.')\n",
    "        return None\n",
    "\n",
    "cal_timetable(1)"
   ]
  },
  {
   "cell_type": "code",
   "execution_count": null,
   "metadata": {},
   "outputs": [],
   "source": [
    "cal_timetable(5)"
   ]
  },
  {
   "cell_type": "markdown",
   "metadata": {},
   "source": [
    "# Vessel itinerary"
   ]
  },
  {
   "cell_type": "code",
   "execution_count": null,
   "metadata": {},
   "outputs": [],
   "source": [
    "# Load data\n",
    "y_df = load_and_process_data('output_files/y_vjt_results.csv',['Vessel', 'Task', 'Start_Time'],{'Start_Time': int})\n",
    "\n",
    "# Extract and clean up Wharf details\n",
    "y_df['Start_Wharf'] = y_df['Task'].apply(lambda x: x.split('_')[-1].strip())\n",
    "y_df['End_Wharf'] = y_df['Start_Wharf']\n",
    "\n",
    "# Lookup Start and End Stations based on Wharfs\n",
    "y_df['Start_Station'] = y_df['Start_Wharf'].apply(lambda x: Start_S.get(x, 'Unknown Station'))\n",
    "y_df['End_Station'] = y_df['Start_Wharf'].apply(lambda x: End_S.get(x, 'Unknown Station'))\n",
    "\n",
    "# Update Task based on specific keywords or conditions\n",
    "y_df['Task'] = y_df['Task'].apply(\n",
    "    lambda x: 'Charging' if x.strip().lower().startswith('phi') else\n",
    "              'Crew pause' if x.strip().lower().startswith('cp') else\n",
    "              x.strip() if x.strip().isdigit() else\n",
    "              'Waiting'\n",
    ")\n",
    "\n",
    "# Initial transformations for Start_Wharf and End_Wharf\n",
    "y_df['Start_Wharf'] = y_df['Start_Wharf'].apply(start_wharf)\n",
    "y_df['End_Wharf'] = y_df['Start_Wharf']  # Initially, set End_Wharf as Start_Wharf\n",
    "\n",
    "y_df['End_Wharf'] = y_df.apply(end_wharf, axis=1)\n",
    "y_df['End_Time'] = y_df.apply(end_time, axis=1)\n",
    "\n",
    "# Reorganize DataFrame columns for final output\n",
    "y_df = y_df[['Vessel', 'Task', 'Start_Station', 'Start_Wharf', 'Start_Time', 'End_Station', 'End_Wharf', 'End_Time']]\n",
    "\n",
    "# Function to calculate vessel itinerary\n",
    "def cal_itinerary(vessel):\n",
    "    itinerary = y_df[y_df['Vessel'] == vessel].sort_values('Start_Time')\n",
    "    itinerary['Start_Time'] = itinerary['Start_Time'].apply(lambda x: cal_time(x).strftime('%H:%M'))\n",
    "    itinerary.reset_index(inplace=True, drop=True)\n",
    "    return itinerary"
   ]
  },
  {
   "cell_type": "code",
   "execution_count": null,
   "metadata": {},
   "outputs": [],
   "source": [
    "import pickle\n",
    "with open(f'pkl_files/6htest_xi_jj_results.pkl', 'rb') as f:\n",
    "    xi_jj_results = pickle.load(f)\n",
    "xi_jj_results[('phi_PB1',11)]"
   ]
  },
  {
   "cell_type": "code",
   "execution_count": null,
   "metadata": {},
   "outputs": [],
   "source": [
    "cal_itinerary('FF6')"
   ]
  },
  {
   "cell_type": "code",
   "execution_count": null,
   "metadata": {},
   "outputs": [],
   "source": [
    "# cal_itinerary('10M')"
   ]
  },
  {
   "cell_type": "markdown",
   "metadata": {},
   "source": [
    "# Wharfs utilisations\n"
   ]
  },
  {
   "cell_type": "code",
   "execution_count": null,
   "metadata": {},
   "outputs": [],
   "source": []
  }
 ],
 "metadata": {
  "kernelspec": {
   "display_name": "Python 3",
   "language": "python",
   "name": "python3"
  },
  "language_info": {
   "codemirror_mode": {
    "name": "ipython",
    "version": 3
   },
   "file_extension": ".py",
   "mimetype": "text/x-python",
   "name": "python",
   "nbconvert_exporter": "python",
   "pygments_lexer": "ipython3",
   "version": "3.10.11"
  }
 },
 "nbformat": 4,
 "nbformat_minor": 2
}
