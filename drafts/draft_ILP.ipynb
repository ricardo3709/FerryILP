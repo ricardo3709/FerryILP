{
 "cells": [
  {
   "cell_type": "code",
   "execution_count": 1,
   "metadata": {},
   "outputs": [],
   "source": [
    "import gurobipy as gp\n",
    "from gurobipy import GRB\n",
    "import numpy as np\n",
    "import pandas as pd\n"
   ]
  },
  {
   "cell_type": "code",
   "execution_count": 2,
   "metadata": {},
   "outputs": [
    {
     "data": {
      "text/html": [
       "<div>\n",
       "<style scoped>\n",
       "    .dataframe tbody tr th:only-of-type {\n",
       "        vertical-align: middle;\n",
       "    }\n",
       "\n",
       "    .dataframe tbody tr th {\n",
       "        vertical-align: top;\n",
       "    }\n",
       "\n",
       "    .dataframe thead th {\n",
       "        text-align: right;\n",
       "    }\n",
       "</style>\n",
       "<table border=\"1\" class=\"dataframe\">\n",
       "  <thead>\n",
       "    <tr style=\"text-align: right;\">\n",
       "      <th></th>\n",
       "      <th>numberOfFirstSailings</th>\n",
       "    </tr>\n",
       "  </thead>\n",
       "  <tbody>\n",
       "    <tr>\n",
       "      <th>0</th>\n",
       "      <td>8</td>\n",
       "    </tr>\n",
       "    <tr>\n",
       "      <th>1</th>\n",
       "      <td>3</td>\n",
       "    </tr>\n",
       "    <tr>\n",
       "      <th>2</th>\n",
       "      <td>4</td>\n",
       "    </tr>\n",
       "    <tr>\n",
       "      <th>3</th>\n",
       "      <td>2</td>\n",
       "    </tr>\n",
       "    <tr>\n",
       "      <th>4</th>\n",
       "      <td>6</td>\n",
       "    </tr>\n",
       "  </tbody>\n",
       "</table>\n",
       "</div>"
      ],
      "text/plain": [
       "   numberOfFirstSailings\n",
       "0                      8\n",
       "1                      3\n",
       "2                      4\n",
       "3                      2\n",
       "4                      6"
      ]
     },
     "execution_count": 2,
     "metadata": {},
     "output_type": "execute_result"
    }
   ],
   "source": [
    "dataFrame = pd.read_csv('draft_data.csv')\n",
    "dataFrame"
   ]
  },
  {
   "cell_type": "code",
   "execution_count": 3,
   "metadata": {},
   "outputs": [
    {
     "name": "stdout",
     "output_type": "stream",
     "text": [
      "Set parameter Username\n"
     ]
    },
    {
     "name": "stdout",
     "output_type": "stream",
     "text": [
      "Academic license - for non-commercial use only - expires 2025-05-03\n"
     ]
    }
   ],
   "source": [
    "# declare Gurobi Model\n",
    "model = gp.Model(\"Ferry_ILP\")\n",
    "model.setParam(\"LogToConsole\", 0)\n"
   ]
  },
  {
   "cell_type": "code",
   "execution_count": 4,
   "metadata": {},
   "outputs": [],
   "source": [
    "## Constrain 1a: each line has exactly one initial departure.\n",
    "numberOfFirstSailings = dataFrame['numberOfFirstSailings'].to_list()\n",
    "numberOfLines = len(numberOfFirstSailings)\n",
    "Lset = range(0, numberOfLines)\n",
    "Dset = list(range(0, len(Lset)))\n",
    "\n",
    "# declare variable\n",
    "x = model.addVars(numberOfLines, max(numberOfFirstSailings), vtype=GRB.BINARY, name=\"x\")\n",
    "\n",
    "# add constrain\n",
    "for l in Lset:\n",
    "    Dset[l] = list(range(0, numberOfFirstSailings[l]))\n",
    "    model.addConstr(gp.quicksum(x[l, d] for d in Dset[l]) == 1)\n",
    "\n"
   ]
  },
  {
   "cell_type": "code",
   "execution_count": null,
   "metadata": {},
   "outputs": [],
   "source": [
    "## Constrain 1b: each sailing, its line has exactly one vessel assigned to that task \n",
    "# in the time period associated to that sailing in the chosen departure of the line, \n",
    "# and that the same line has no vessel assigned in other time periods.\n",
    "\n",
    "# Vset: Set of Vessels\n",
    "# Lset: Set of Lines\n",
    "# Dset: Set of Departures Times\n",
    "# Zset: Set of Sailing Times\n",
    "y = model.addVars(len(Vset), len(Lset), max(len(numberOfFirstSailings), vt=GRB.BINARY, name=\"y\"))\n",
    "\n",
    "# add constrain\n",
    "for s in Zset:\n",
    "    for d in Dset[l[s]]:\n",
    "        model.addConstr(gp.quicksum([v,l[s],d] for v in Vset) == x[l[s], d])\n"
   ]
  },
  {
   "cell_type": "code",
   "execution_count": null,
   "metadata": {},
   "outputs": [],
   "source": []
  }
 ],
 "metadata": {
  "kernelspec": {
   "display_name": "elispe",
   "language": "python",
   "name": "python3"
  },
  "language_info": {
   "codemirror_mode": {
    "name": "ipython",
    "version": 3
   },
   "file_extension": ".py",
   "mimetype": "text/x-python",
   "name": "python",
   "nbconvert_exporter": "python",
   "pygments_lexer": "ipython3",
   "version": "3.8.18"
  }
 },
 "nbformat": 4,
 "nbformat_minor": 2
}
