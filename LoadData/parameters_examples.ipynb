{
 "cells": [
  {
   "cell_type": "code",
   "execution_count": 1,
   "metadata": {},
   "outputs": [],
   "source": [
    "import pandas as pd\n",
    "import numpy as np\n",
    "from datetime import time"
   ]
  },
  {
   "cell_type": "markdown",
   "metadata": {},
   "source": [
    "# Task defined\n",
    "\n",
    "1, A line\n",
    "\n",
    "2, To wait\n",
    "\n",
    "3, To charge\n",
    "\n",
    "4, To do a crew pause"
   ]
  },
  {
   "cell_type": "markdown",
   "metadata": {},
   "source": [
    "# Dataframes"
   ]
  },
  {
   "cell_type": "code",
   "execution_count": 2,
   "metadata": {},
   "outputs": [],
   "source": [
    "# Station and wharves dataframe\n",
    "wharf_df = pd.read_csv('Inputs/wharf_info.csv')\n",
    "\n",
    "# lines dataframe\n",
    "line_df = pd.read_csv('Inputs/line_info.csv')\n",
    "line_df['First_sailing'] = pd.to_datetime(line_df['First_sailing'], format='%H:%M')\n",
    "\n",
    "# Wharf to wharf transit time dataframe\n",
    "tt_df = pd.read_csv('Inputs/transit_times.csv')\n",
    "\n",
    "# Headways dataframe\n",
    "headway_df = pd.read_csv('Inputs/headways.csv')\n",
    "\n",
    "# vessels.\n",
    "vessel_df = pd.read_csv('Inputs/vessel_info.csv')\n",
    "\n",
    "# charging berths dataframe\n",
    "charging_berth = pd.read_csv('Inputs/charging_berths.csv')"
   ]
  },
  {
   "cell_type": "code",
   "execution_count": 3,
   "metadata": {},
   "outputs": [],
   "source": [
    "## Other input required\n",
    "\n",
    "# Simulation time parameters\n",
    "initial_time = time(5,0)\n",
    "period_length = 5 # min\n",
    "total_operation_hours = 24 # hours\n",
    "\n",
    "# nc, Minimum num of crew break\n",
    "nc = 5 \n",
    "\n",
    "# Dc, Crew break duration (fixed)\n",
    "Dc = 60\n",
    "\n",
    "# Tc, Maximum seperation time for crew breakings\n",
    "Tc = 4*60\n",
    "\n",
    "# Initial charge\n",
    "Qv0 = 1\n",
    "\n",
    "# rv+\n",
    "rv_plus: float\n",
    "\n",
    "# Battery info\n",
    "# discharging rate/min / 1100kwh * time period = change of vessle between 1 time period\n",
    "rv_13 = 46/5/1100*period_length # percentage change per time period\n",
    "rv_20 = 167/10/1100*period_length\n",
    "rv_25 = 117/5/1100*period_length\n"
   ]
  },
  {
   "cell_type": "code",
   "execution_count": 4,
   "metadata": {},
   "outputs": [],
   "source": [
    "# Lset: Set of Lines\n",
    "Lset = line_df['Line_No'].unique().tolist()\n",
    "\n",
    "# Zset: Set of Sailing \n",
    "nl_ls= [len(headway_df[f'h{l}'].dropna().tolist())+1 for l in Lset]\n",
    "s_ls = [list(range(1,nl+1)) for nl in nl_ls]\n",
    "Zset = []\n",
    "\n",
    "for line in Lset:\n",
    "    for sailing in s_ls[line-1]:\n",
    "        Zset.append(f'{line}_{sailing}')\n",
    "\n",
    "# Vset: Set of Vessels\n",
    "Vset = vessel_df['Vessel code'].unique().tolist()\n",
    "\n",
    "# Tset\n",
    "Tset = [i for i in range(1, total_operation_hours * 60 // period_length + 1)]"
   ]
  },
  {
   "cell_type": "code",
   "execution_count": 5,
   "metadata": {},
   "outputs": [
    {
     "name": "stdout",
     "output_type": "stream",
     "text": [
      "The set of wharves for vessels can charge, B+: ['CQ2', 'CQ4', 'CQ5', 'Bar1', 'Bar2', 'Chs1', 'Cab1', 'SOP1', 'Pm1', 'WB1', 'RB1', 'CI1', 'PB1']\n",
      "The set of wharves for vessels can do crew pause, Bc: ['cp_CQ1', 'cp_CQ2', 'cp_CQ3', 'cp_CQ4', 'cp_CQ5', 'cp_Bar1', 'cp_Bar2', 'cp_Bar4', 'cp_Bar5', 'cp_BSY1', 'cp_BSY2', 'cp_BSY3', 'cp_BSY4', 'cp_BSY5', 'cp_BSY6']\n",
      "The set of wharves for vessels can wait, B: ['CQ1', 'CQ3', 'Bar4', 'Bar5', 'BSY1', 'BSY2', 'BSY3', 'BSY4', 'BSY5', 'BSY6', 'phi_CQ2', 'phi_CQ4', 'phi_CQ5', 'phi_Bar1', 'phi_Bar2', 'phi_Chs1', 'phi_Cab1', 'phi_SOP1', 'phi_Pm1', 'phi_WB1', 'phi_RB1', 'phi_CI1', 'phi_PB1']\n"
     ]
    }
   ],
   "source": [
    "# B+, set of wharves to charge\n",
    "Bplus = [wharf for wharf in charging_berth['Wharf_No'].unique().tolist()]\n",
    "print(f'The set of wharves for vessels can charge, B+: {Bplus}')\n",
    "\n",
    "# Non loading berths\n",
    "original_non_loading_berths = wharf_df[wharf_df['Non_loading_berths'] != 0]['Wharf_No'].unique().tolist()\n",
    "\n",
    "# Bc, set of wharves to crew pause, is copy of set B\n",
    "Bc = ['cp_' + wharf for wharf in original_non_loading_berths] # or Bc = wharf_df[wharf_df['Crew_pause'] == 'Yes']['Wharf_No'].unique().tolist()    they result in the same set\n",
    "print(f'The set of wharves for vessels can do crew pause, Bc: {Bc}')\n",
    "\n",
    "\n",
    "# B, set of wharves to wait, any wharf with a charger belongs to B, and B contains wharves with original non loading berths\n",
    "B = original_non_loading_berths.copy() \n",
    "\n",
    "for wharf in Bplus:\n",
    "    if wharf in B: # wharf with a charger\n",
    "        B.remove(wharf)\n",
    "        B.append(f'phi_{wharf}') # mark as phi(w)\n",
    "    else:\n",
    "        B.append(f'phi_{wharf}')  # input directly\n",
    "\n",
    "print(f'The set of wharves for vessels can wait, B: {B}')\n",
    "\n",
    "\n",
    "# Jset = Lset + B + B+ + Bc\n",
    "Jset = [ele for ele in Lset + B + Bc + Bplus]"
   ]
  },
  {
   "cell_type": "markdown",
   "metadata": {},
   "source": [
    "# Parameters"
   ]
  },
  {
   "cell_type": "code",
   "execution_count": 6,
   "metadata": {},
   "outputs": [
    {
     "name": "stdout",
     "output_type": "stream",
     "text": [
      "The set of stations, S:['Circular Quay', 'Parramatta', 'Rydalmere', 'Sydney Olympic Park', 'Cabarita', 'Chiswick', 'Drummoyne', 'Cockatoo Is', 'Woolwich', 'Barangaroo', 'Pyrmont Bay', 'Mosman', 'Taronga Zoo', 'Watsons Bay', 'Rose Bay', 'Double Bay', 'Balmain Shipyard', 'Blackwattle Bay', 'Balmain East', 'McMahons Point', 'Milsons Point', 'Huntleys Point', 'Abbotsford', 'Kissing Point', 'Meadowbank', 'Kirribilli', 'North Sydney', 'Neutral Bay', 'Kurraba Point', 'Cremorne Point', 'South Mosman', 'Old Cremorne', 'Darling Point', 'Garden Island', 'Balmain', 'Birchgrove', 'Greenwich Point']\n",
      "Num of wharves in Circular Quay: P_CQ = 5\n",
      "Capacity of wharf 1 in Circular Quay: C_CQ1 = 2\n",
      "The station corresponding to the wharf CQ1, S_CQ1 = Circular Quay\n"
     ]
    }
   ],
   "source": [
    "# S, set of station\n",
    "S = wharf_df['Station'].unique().tolist()\n",
    "print(f'The set of stations, S:{S}')\n",
    "\n",
    "# PS\n",
    "# Example: Circular quay\n",
    "P_CQ = len(wharf_df[wharf_df['Station'] == 'Circular Quay']['Wharf_No'].unique())\n",
    "print(f'Num of wharves in Circular Quay: P_CQ = {P_CQ}')\n",
    "\n",
    "# Cw\n",
    "# Example: Capacity of wharf 1 at Circular quay\n",
    "C_CQ1 = wharf_df[(wharf_df['Station'] == 'Circular Quay')&(wharf_df['Wharf_No'] == 'CQ1')]['Loading_berths'].iloc()[0] + wharf_df[(wharf_df['Station'] == 'Circular Quay')&(wharf_df['Wharf_No'] == 'CQ1')]['Non_loading_berths'].iloc()[0]\n",
    "print(f'Capacity of wharf 1 in Circular Quay: C_CQ1 = {C_CQ1}')\n",
    "\n",
    "# S(w)\n",
    "# Example: wharf CQ1's station\n",
    "S_CQ1 = wharf_df[wharf_df['Wharf_No'] == 'CQ1']['Station'].iloc()[0]\n",
    "print(f'The station corresponding to the wharf CQ1, S_CQ1 = {S_CQ1}')"
   ]
  },
  {
   "cell_type": "code",
   "execution_count": 7,
   "metadata": {},
   "outputs": [
    {
     "name": "stdout",
     "output_type": "stream",
     "text": [
      "Travel time between Mosman and Taronga Zoo, the ξ(Mos,TZ), is 6 mins.\n"
     ]
    }
   ],
   "source": [
    "# Xi (S1, S2), travel time between S1 and S2\n",
    "# Example: Mosman to Taronga Zoo\n",
    "\n",
    "xi_Mos_TZ = tt_df[(tt_df['O'] == 'Mosman')&(tt_df['D'] == 'Taronga Zoo')]['Time underway'].iloc()[0]\n",
    "print(f'Travel time between Mosman and Taronga Zoo, the \\u03be(Mos,TZ), is {xi_Mos_TZ} mins.')\n"
   ]
  },
  {
   "cell_type": "code",
   "execution_count": 8,
   "metadata": {},
   "outputs": [
    {
     "name": "stdout",
     "output_type": "stream",
     "text": [
      "The stations visited by line 1, R_l1, is ['Circular Quay', 'Mosman']\n"
     ]
    }
   ],
   "source": [
    "# R(l)\n",
    "\n",
    "def cal_R_l(l):\n",
    "    \"\"\"\n",
    "    Calculate the route for a given line number from a DataFrame.\n",
    "    \n",
    "    Parameters:\n",
    "    l (int): The line number for which the route is to be extracted.\n",
    "    \n",
    "    Returns:\n",
    "    list: A list containing the sequence of stations for the line, excluding any NaN entries.\n",
    "    \n",
    "    Raises:\n",
    "    ValueError: If the line number is not found in the DataFrame or input is not an integer.\n",
    "    \"\"\"\n",
    "    # Check input type to be an integer\n",
    "    if not isinstance(l, int):\n",
    "        raise ValueError(\"Line number must be an integer.\")\n",
    "    \n",
    "    # Check if line number exists\n",
    "    if l not in line_df['Line_No'].values:\n",
    "        raise ValueError(f\"Line number {l} is not found in the DataFrame.\")\n",
    "    \n",
    "    try:\n",
    "        route_data = line_df[line_df['Line_No'] == l][['O', 'I', 'T']].iloc[0]\n",
    "        # Filter out NaN values and convert to list\n",
    "        R_l = [station for station in route_data if not pd.isna(station)]\n",
    "        return R_l\n",
    "    except IndexError:\n",
    "        raise ValueError(f\"No data available for line number {l}.\")\n",
    "    except KeyError:\n",
    "        raise ValueError(\"DataFrame must include 'Line_No', 'O', 'I', 'T' columns.\")\n",
    "\n",
    "\n",
    "# Example: line1\n",
    "print(f'The stations visited by line 1, R_l1, is {cal_R_l(1)}')\n"
   ]
  },
  {
   "cell_type": "code",
   "execution_count": 9,
   "metadata": {},
   "outputs": [
    {
     "name": "stdout",
     "output_type": "stream",
     "text": [
      "The wharves in Circular Quay that can be used are: ['CQ1', 'CQ2', 'CQ3', 'CQ4', 'CQ5']\n"
     ]
    }
   ],
   "source": [
    "# C(l,S) Function\n",
    "\n",
    "\n",
    "def cal_C_lS(S):\n",
    "    \"\"\"\n",
    "    Calculate the set of usable wharves for a given station.\n",
    "    \n",
    "    Parameters:\n",
    "    S (str): The station name for which the set of wharves is to be calculated.\n",
    "    \n",
    "    Returns:\n",
    "    list: A list of unique wharf numbers that can be used at the given station.\n",
    "    \n",
    "    Raises:\n",
    "    ValueError: If the station does not exist in the DataFrame or the input is not a string.\n",
    "    \"\"\"\n",
    "    # Check if input is a string\n",
    "    if not isinstance(S, str):\n",
    "        raise ValueError(\"Station name must be a string.\")\n",
    "    \n",
    "    # Check if station exists in DataFrame\n",
    "    if S not in wharf_df['Station'].values:\n",
    "        raise ValueError(f\"Station {S} is not found in the DataFrame.\")\n",
    "    \n",
    "    try:\n",
    "        # Extract unique wharves for the station\n",
    "        C_lS = wharf_df[wharf_df['Station'] == S]['Wharf_No'].unique().tolist()\n",
    "        return C_lS\n",
    "    except KeyError:\n",
    "        raise ValueError(\"DataFrame must include 'Station' and 'Wharf_No' columns.\")\n",
    "    \n",
    "\n",
    "# Example: Circular Quay\n",
    "print('The wharves in Circular Quay that can be used are:', cal_C_lS('Circular Quay'))"
   ]
  },
  {
   "cell_type": "code",
   "execution_count": 10,
   "metadata": {},
   "outputs": [
    {
     "name": "stdout",
     "output_type": "stream",
     "text": [
      "The dwelling time for line 1 at Mosman, dw(l1,Mos),is 2 time periods.\n"
     ]
    }
   ],
   "source": [
    "# dw(l,S), dwelling time\n",
    "# Example: dwelling time for line1 at terminus, Mosman\n",
    "dw_l1_Mos = int(line_df[line_df['Line_No'] == 1]['dw_T'].iloc()[0]//period_length+1)\n",
    "print(f'The dwelling time for line 1 at Mosman, dw(l1,Mos),is {dw_l1_Mos} time periods.')"
   ]
  },
  {
   "cell_type": "code",
   "execution_count": 11,
   "metadata": {},
   "outputs": [
    {
     "name": "stdout",
     "output_type": "stream",
     "text": [
      "The headways of sailings for line1, H_l1, is [30.0, 30.0, 30.0] in mins.\n"
     ]
    }
   ],
   "source": [
    "# Hl, headway\n",
    "# Example: line 1\n",
    "H_l1 = headway_df['h1'].dropna().tolist()\n",
    "print(f'The headways of sailings for line1, H_l1, is {H_l1} in mins.')"
   ]
  },
  {
   "cell_type": "markdown",
   "metadata": {},
   "source": [
    "# A set of vessels. \n",
    "For each vessel v, we know its starting station Sv and which lines can it serve li(v). \n",
    "\n",
    "This last definition reflects that some lines might require a particular type of vessel, either in terms of capacity or speed."
   ]
  },
  {
   "cell_type": "code",
   "execution_count": 12,
   "metadata": {},
   "outputs": [
    {
     "name": "stdout",
     "output_type": "stream",
     "text": [
      "Line served by FF1 staring from Circular Quay, li_ff1 : [1, 3, 7, 9, 10, 12, 14]\n"
     ]
    }
   ],
   "source": [
    "# Sv,starting station of vessel v\n",
    "# Example: Vessel FF1.\n",
    "S_ff1 = vessel_df[vessel_df['Vessel code'] == 'FF1']['Sv'].iloc()[0]\n",
    "\n",
    "# li(v)\n",
    "# Example: Vessel FF1.\n",
    "vessel_ff1 = vessel_df[vessel_df['Vessel code'] == 'FF1']\n",
    "routes_served = [route for route in vessel_df.columns[2:-1] if vessel_ff1.iloc[0][route] == 'Yes']\n",
    "# print(\"Routes served by FF1:\", routes_served)\n",
    "\n",
    "li_ff1 = line_df[(line_df['Route_No'].isin(routes_served))&(line_df['O'] == S_ff1)]['Line_No'].tolist()\n",
    "print(f\"Line served by FF1 staring from {S_ff1}, li_ff1 : {li_ff1}\")\n"
   ]
  },
  {
   "cell_type": "code",
   "execution_count": 13,
   "metadata": {},
   "outputs": [
    {
     "name": "stdout",
     "output_type": "stream",
     "text": [
      "Line served by FF1 staring from Circular Quay\n"
     ]
    }
   ],
   "source": [
    "# Sv(v) Function\n",
    "\n",
    "def cal_Sv(v):\n",
    "    \"\"\"\n",
    "    Retrieve the starting station for a given vessel identified by its vessel code.\n",
    "    \n",
    "    Parameters:\n",
    "    v (str): The vessel code for which the starting station is to be retrieved.\n",
    "    \n",
    "    Returns:\n",
    "    str: The starting station of the vessel.\n",
    "    \n",
    "    Raises:\n",
    "    ValueError: If the vessel code does not exist in the DataFrame or the input type is incorrect.\n",
    "    \"\"\"\n",
    "    # Validate input type\n",
    "    if not isinstance(v, str):\n",
    "        raise ValueError(\"Vessel code must be a string.\")\n",
    "    \n",
    "    # Check if the vessel code exists in the DataFrame\n",
    "    if v not in vessel_df['Vessel code'].values:\n",
    "        raise ValueError(f\"Vessel code {v} is not found in the DataFrame.\")\n",
    "    \n",
    "    try:\n",
    "        # Extract the starting station for the vessel\n",
    "        S_v = vessel_df[vessel_df['Vessel code'] == v]['Sv'].iloc[0]\n",
    "        return S_v\n",
    "    except KeyError:\n",
    "        raise ValueError(\"DataFrame must include 'Vessel code' and 'Sv' columns.\")\n",
    "    except IndexError:\n",
    "        raise ValueError(f\"No data available for vessel code {v}. The vessel might not be listed.\")\n",
    "\n",
    "# Example: Vessel FF1.\n",
    "print(f\"Line served by FF1 staring from {cal_Sv('FF1')}\")"
   ]
  },
  {
   "cell_type": "code",
   "execution_count": 14,
   "metadata": {},
   "outputs": [
    {
     "name": "stdout",
     "output_type": "stream",
     "text": [
      "Line served by FF1, li_ff1 : [1, 2, 3, 4, 7, 8, 9, 10, 11, 12, 13, 14, 15]\n"
     ]
    }
   ],
   "source": [
    "def cal_li_v(v):\n",
    "    \"\"\"\n",
    "    Calculate the lines that a given vessel can serve, based on its starting station and the routes it can serve.\n",
    "    \n",
    "    Parameters:\n",
    "    v (str): The vessel code for which lines are to be calculated.\n",
    "    \n",
    "    Returns:\n",
    "    list: A list of line numbers that the vessel can serve starting from its designated station.\n",
    "    \n",
    "    Raises:\n",
    "    ValueError: If the vessel code does not exist in the DataFrame or if the DataFrame structure is incorrect.\n",
    "    \"\"\"\n",
    "    # Validate input type\n",
    "    if not isinstance(v, str):\n",
    "        raise ValueError(\"Vessel code must be a string.\")\n",
    "    \n",
    "    # Check if vessel code exists in the DataFrame\n",
    "    if v not in vessel_df['Vessel code'].values:\n",
    "        raise ValueError(f\"Vessel code {v} is not found in the DataFrame.\")\n",
    "    \n",
    "    try:\n",
    "        # Extract rows for the vessel and find routes served\n",
    "        vessel_row = vessel_df[vessel_df['Vessel code'] == v].iloc[0]\n",
    "        routes_served = [route for route in vessel_df.columns[2:-1] if vessel_row[route] == 'Yes']\n",
    "        li_v = line_df[line_df['Route_No'].isin(routes_served)]['Line_No'].tolist() # DO NOT DEPEND ON THE Sv ??????????????????????????????????????????\n",
    "\n",
    "        # # Code for DEPEND ON THE Sv 这个li到底是不是取决于Sv的啊，我这里两个版本都写了，现在用的是不取决于Sv的\n",
    "        # # Retrieve the starting station for the vessel\n",
    "        # S_v = cal_Sv(v)\n",
    "        # # Find lines that start from S_v and are in routes_served\n",
    "        # li_v = line_df[(line_df['Route_No'].isin(routes_served)) & (line_df['O'] == S_v)]['Line_No'].tolist()\n",
    "\n",
    "        return li_v\n",
    "    except KeyError:\n",
    "        raise ValueError(\"DataFrame must include 'Vessel code', 'Route_No', 'O', and necessary route columns.\")\n",
    "    except IndexError:\n",
    "        raise ValueError(f\"No data available for vessel code {v}.\")\n",
    "    \n",
    "# Example: Vessel FF1.\n",
    "print(f\"Line served by FF1, li_ff1 : {cal_li_v('FF1')}\")\n"
   ]
  },
  {
   "cell_type": "code",
   "execution_count": 15,
   "metadata": {},
   "outputs": [
    {
     "data": {
      "text/plain": [
       "0     0.041818\n",
       "1     0.041818\n",
       "2     0.041818\n",
       "3     0.041818\n",
       "4     0.000000\n",
       "5     0.000000\n",
       "6     0.041818\n",
       "7     0.041818\n",
       "8     0.041818\n",
       "9     0.041818\n",
       "10    0.041818\n",
       "11    0.041818\n",
       "12    0.041818\n",
       "13    0.041818\n",
       "14    0.041818\n",
       "15    0.106364\n",
       "16    0.106364\n",
       "17    0.041818\n",
       "18    0.041818\n",
       "Name: rv, dtype: float64"
      ]
     },
     "execution_count": 15,
     "metadata": {},
     "output_type": "execute_result"
    }
   ],
   "source": [
    "# Rv\n",
    "line_df['rv']"
   ]
  },
  {
   "cell_type": "code",
   "execution_count": 16,
   "metadata": {},
   "outputs": [],
   "source": [
    "# qv,j,t\n",
    "# for task j  belongs to B+\n",
    "# q_v_j_t = rv_plus\n",
    "\n",
    "# for first and last period of charging\n",
    "epsilon: float # [0,1]\n",
    "# q_v_j_t = epsilon * rv_plus\n",
    "\n",
    "# for task waiting\n",
    "q_v_j_t = 0\n",
    "\n",
    "# for line task\n",
    "# example: line1\n",
    "q_v_j_t = -line_df[line_df['Line_No'] == 1]['rv'].iloc()[0] # when moving\n",
    "q_v_j_t = 0 # when stop\n"
   ]
  },
  {
   "cell_type": "code",
   "execution_count": 17,
   "metadata": {},
   "outputs": [
    {
     "name": "stdout",
     "output_type": "stream",
     "text": [
      "The set of time for line 1's first sailing, D(l1): [19, 20, 21, 22, 23, 24, 25]\n"
     ]
    }
   ],
   "source": [
    "# D(l) Function\n",
    "\n",
    "def cal_D_l(l):\n",
    "    '''\n",
    "    Determines the allowable time periods for the first sailing of a specified line, \n",
    "    relative to the given initial simulation time and allowed_latitude.\n",
    "\n",
    "    Parameters:\n",
    "    l (int): Line number.\n",
    "\n",
    "    Returns:\n",
    "    list: A list of allowable time periods, D(l), during which the specified line's\n",
    "          first sailing is considered permissible.\n",
    "\n",
    "    Example:\n",
    "    For line l1 and an initial simulation time of 5:00 AM, D(l1) might include time periods\n",
    "    where the first sailing time of line l1 falls within a certain allowable range.\n",
    "    \n",
    "    '''\n",
    "    first_sailing_time = line_df[line_df['Line_No'] == l]['First_sailing'].iloc()[0]\n",
    "    delta_minutes = (first_sailing_time.hour * 60 + first_sailing_time.minute) - (initial_time.hour * 60 + initial_time.minute)\n",
    "\n",
    "    allowed_latitude = 15 # min\n",
    "    # Create a set of allowable time period numbers\n",
    "    D_l = list(range((delta_minutes - allowed_latitude) // period_length + 1, ((delta_minutes + allowed_latitude) // period_length + 1) + 1))\n",
    "    # print(f\"The set of time for line {l}'s first sailing, D(l1): {D_l}\")\n",
    "    return D_l\n",
    "\n",
    "\n",
    "# Example: line 1\n",
    "print(f\"The set of time for line 1's first sailing, D(l1): {cal_D_l(1)}\")\n"
   ]
  },
  {
   "cell_type": "code",
   "execution_count": 18,
   "metadata": {},
   "outputs": [
    {
     "name": "stdout",
     "output_type": "stream",
     "text": [
      "The second sailing, h(2,1), starts at the 29th time preiod.\n"
     ]
    }
   ],
   "source": [
    "def cal_h_sd(s, d, line):\n",
    "    \"\"\"\n",
    "    Calculate the s-th sailing time starting from time 'd' for a specified 'line'.\n",
    "\n",
    "    This function retrieves headway periods for a specific line from a dataframe,\n",
    "    constructs a list of sailing times starting from time 'd', and returns the s-th\n",
    "    sailing time based on these intervals. It is used to project sailing schedules\n",
    "    based on a specified headway and start day.\n",
    "\n",
    "    Parameters:\n",
    "    s (int): The order of the sailing time to be retrieved (1st, 2nd, etc.).\n",
    "    d (int): The day from which sailing starts.\n",
    "    line (int): The line number for which headway data is to be used.\n",
    "\n",
    "    Returns:\n",
    "    int or None: The s-th sailing time in terms of the number of time periods\n",
    "                 since day 'd', or None if the index 's' is out of range or\n",
    "                 an error occurs in processing.\n",
    "\n",
    "    Note:\n",
    "    The function assumes `period_length` as a global variable that denotes the\n",
    "    length of each time period within the operational schedule.\n",
    "    \"\"\"\n",
    "\n",
    "    try:\n",
    "        # Retrieve the headway periods for the specified line and drop missing values\n",
    "        h = headway_df[f'h{line}'].dropna().tolist()\n",
    "        h_sd_ls = [d]  # Start the list with the initial day 'd'\n",
    "\n",
    "        # Calculate subsequent sailing times based on headway periods\n",
    "        for sailing_headway in h:\n",
    "            num_time_period = int(sailing_headway // period_length + 1)  # round up\n",
    "            h_sd_ls.append(h_sd_ls[-1] + num_time_period)\n",
    "\n",
    "        # Return the s-th sailing time if within bounds\n",
    "        if s-1 < len(h_sd_ls):\n",
    "            return h_sd_ls[s-1]\n",
    "        else:\n",
    "            return None\n",
    "    except Exception as e:\n",
    "        print(f\"An error occurred: {e}\")\n",
    "        return None\n",
    "\n",
    "\n",
    "# Example: 2nd sailing of line 1\n",
    "print(f'The second sailing, h(2,1), starts at the {cal_h_sd(2,22,1)}th time preiod.')"
   ]
  },
  {
   "cell_type": "code",
   "execution_count": 19,
   "metadata": {},
   "outputs": [
    {
     "name": "stdout",
     "output_type": "stream",
     "text": [
      "The minimum number of period for crew puse, μ(cp), is  13\n",
      "The minimum number of period for line 1, μ(l1), is 5.\n"
     ]
    }
   ],
   "source": [
    "# mu(j) Function\n",
    "\n",
    "def cal_mu(j):\n",
    "    \"\"\"\n",
    "    Calculate the duration in time periods for a given task j.\n",
    "    \n",
    "    Parameeters:\n",
    "    j (int or str): The task identifier which can be a line number, crew pause, or waiting task.\n",
    "    \n",
    "    Returns:\n",
    "    int or None: The number of time periods the task takes, or None if the task is unrecognized.\n",
    "    \n",
    "    Raises:\n",
    "    ValueError: If the input or required global variables are improperly configured.\n",
    "    \"\"\"\n",
    "    try:\n",
    "        if not isinstance(j, (int, str)):\n",
    "            raise ValueError(\"Task identifier must be an integer or string.\")\n",
    "        \n",
    "        # Check if j is in lists\n",
    "        if j in Lset:\n",
    "            mu_j = line_df[line_df['Line_No'] == j]['Line_duration'].iloc()[0] // period_length + 1\n",
    "        elif j in Bc:\n",
    "            mu_j = Dc // period_length + 1\n",
    "        elif j in Bplus or j in B:\n",
    "            mu_j = 1\n",
    "        else:\n",
    "            # If task j is unrecognized\n",
    "            return None\n",
    "        return mu_j\n",
    "    except KeyError as e:\n",
    "        raise ValueError(f\"Missing data for task {j}: {str(e)}\")\n",
    "    except Exception as e:\n",
    "        raise Exception(f\"An unexpected error occurred: {str(e)}\")\n",
    "    \n",
    "# Example1: crew puse\n",
    "print('The minimum number of period for crew puse, \\u03BC(cp), is ',cal_mu('cp_CQ1'))\n",
    "\n",
    "# Example2: line 1\n",
    "print(f'The minimum number of period for line 1, \\u03BC(l1), is {cal_mu(1)}.')"
   ]
  },
  {
   "cell_type": "code",
   "execution_count": 20,
   "metadata": {},
   "outputs": [],
   "source": [
    "# xi(j1,j2)\n",
    "# required time for j1_end and j2_start\n",
    "xi_j1_j2: int\n",
    "\n",
    "# xi(j1,j2) function \n",
    "\n",
    "def cal_xi(j1,j2):\n",
    "    pass\n"
   ]
  },
  {
   "cell_type": "code",
   "execution_count": 21,
   "metadata": {},
   "outputs": [
    {
     "data": {
      "text/plain": [
       "0"
      ]
     },
     "execution_count": 21,
     "metadata": {},
     "output_type": "execute_result"
    }
   ],
   "source": [
    "# xi0(v,j2) function \n",
    "def cal_xi0(v, j):\n",
    "    \"\"\"\n",
    "    Calculate the time periods required for vessel v to travel from its starting position to the starting point of task j.\n",
    "    If the starting position is the same as the task location, xi0 is zero.\n",
    "    \n",
    "    Args:\n",
    "    v (str): The vessel identifier.\n",
    "    j (str or int): The task identifier, which could be a line or a specific wharf.\n",
    "    \n",
    "    Returns:\n",
    "    int: The time period required to travel from the vessel's starting wharf to the wharf where task j begins, or zero if they are the same.\n",
    "    \n",
    "    Raises:\n",
    "    ValueError: If input data is missing or incorrect, or if travel times are not found in the DataFrame.\n",
    "    \"\"\"\n",
    "    try:\n",
    "        S_v = cal_Sv(v)  # Fetch the starting station for vessel v\n",
    "        \n",
    "        # Determine the starting station of the task\n",
    "        if j in Lset:\n",
    "            task_station = cal_R_l(j)[0]  # Assuming cal_R_l returns a list of stations, taking the first as origin\n",
    "        elif j in Bc or B or Bplus:\n",
    "            task_wharf = j.split('_')[-1] # Assuming j is directly the wharf identifier for these cases\n",
    "            task_station = wharf_df[wharf_df['Wharf_No'] == task_wharf]['Station'].iloc()[0]\n",
    "        else:\n",
    "            raise ValueError(\"Task identifier j is unrecognized.\")\n",
    "\n",
    "        # If the starting point and task location are the same, return zero\n",
    "        if S_v == task_station:\n",
    "            return 0\n",
    "\n",
    "        # Fetch travel time from the travel time DataFrame\n",
    "        travel_time_series = tt_df[(tt_df['O'] == S_v) & (tt_df['D'] == task_station)]['Time underway']\n",
    "        if travel_time_series.empty:\n",
    "            raise ValueError(f\"No travel time data available from {S_v} to {task_station}.\")\n",
    "\n",
    "        # Calculate periods\n",
    "        xi0 = travel_time_series.iloc[0] // period_length + 1\n",
    "        return int(xi0)\n",
    "    except KeyError as e:\n",
    "        raise KeyError(f\"DataFrame column missing: {str(e)}\")\n",
    "    except Exception as e:\n",
    "        raise Exception(f\"An error occurred: {str(e)}\")\n",
    "\n",
    "\n",
    "# Example: vessel FF1 do line 1, circular quaty --> circular quay, thus xi0 should be 0\n",
    "cal_xi0('FF1', 1)\n"
   ]
  },
  {
   "cell_type": "code",
   "execution_count": 22,
   "metadata": {},
   "outputs": [
    {
     "name": "stdout",
     "output_type": "stream",
     "text": [
      "the wharves for line1 that can be used are: ['CQ1', 'CQ2', 'CQ3', 'CQ4', 'CQ5', 'Mos1']\n",
      "the wharves for line1 that can be used are: ['CQ1']\n"
     ]
    }
   ],
   "source": [
    "def cal_C(j):\n",
    "    \"\"\"\n",
    "    Calculate all wharves that could be used given task j.\n",
    "    If j is a line, aggregates wharves from all stations visited by the line.\n",
    "    If j is a wharf (either in B or Bc), returns just that wharf.\n",
    "\n",
    "    Parameters:\n",
    "    j (int): The task identifier, which could be a line number or a wharf.\n",
    "\n",
    "    Returns:\n",
    "    list: A list of all wharves usable for the task, or None if task is unrecognized.\n",
    "\n",
    "    Raises:\n",
    "    Exception: Raises an exception with a descriptive message if any error occurs.\n",
    "    \"\"\"\n",
    "    try:\n",
    "        C_j = []\n",
    "        if isinstance(j, int) and j in Lset:\n",
    "            R_l = cal_R_l(j)  # stations visited by the line\n",
    "            for S in R_l:\n",
    "                C_lS = cal_C_lS(S)\n",
    "                C_j.extend(C_lS)  # Use extend to avoid nested lists\n",
    "        elif isinstance(j, str) and (j in Bc or B or Bplus):\n",
    "            C_j.append(j.split('_')[-1])\n",
    "        else:\n",
    "            raise ValueError(f\"Task {j} is unrecognized or inappropriate data type\")\n",
    "\n",
    "        return C_j\n",
    "    except Exception as e:\n",
    "        raise Exception(f\"An error occurred: {str(e)}\")\n",
    "\n",
    "\n",
    "# Example: for line 1\n",
    "print(f'the wharves for line1 that can be used are: {cal_C(1)}')\n",
    "\n",
    "# Example: for crew pause\n",
    "print(f'the wharves for line1 that can be used are:',cal_C('cp_CQ1') )"
   ]
  },
  {
   "cell_type": "code",
   "execution_count": 23,
   "metadata": {},
   "outputs": [
    {
     "name": "stdout",
     "output_type": "stream",
     "text": [
      "For line1, the time terminus wharf has been occupied is [3, 4, 5, 6]\n",
      "For line7, the time intermediate stop wharf has been occupied is [4, 5, 6, 7], the time terminus wharf has been occupied is [5, 6, 7, 8]\n",
      "For crew pause, the time a wharf has been occupied is [0, 1, 2, 3, 4, 5, 6, 7, 8, 9, 10, 11, 12]\n"
     ]
    }
   ],
   "source": [
    "# delta(j,w)\n",
    "# Set of time t when w will be occupied because of j\n",
    "\n",
    "# if j is a line\n",
    "# Example: line 1 (no intermediate stop)\n",
    "a = int(line_df[line_df['Line_No'] == 1]['Time_underway_to_T'].iloc()[0]//period_length + 1)\n",
    "dw_T = int(line_df[line_df['Line_No'] == 1]['dw_T'].iloc()[0]//period_length + 1)\n",
    "\n",
    "\n",
    "delta_l1_w = list(range(a-1,(a+dw_T-1+1)+1)) # assume safety buffer 1 time period, and at least including range(a,(a+dw_T-1)+1)\n",
    "print(f'For line1, the time terminus wharf has been occupied is {delta_l1_w}')\n",
    "\n",
    "# Example: line 7 (with intermediate stop)\n",
    "a1 = int(line_df[line_df['Line_No'] == 7]['Time_underway_to_I'].iloc()[0]//period_length + 1)\n",
    "a2 = int(line_df[line_df['Line_No'] == 7]['Time_underway_to_T'].iloc()[0]//period_length + 1)\n",
    "dw_I = int(line_df[line_df['Line_No'] == 7]['dw_I'].iloc()[0]//period_length + 1)\n",
    "dw_T = int(line_df[line_df['Line_No'] == 7]['dw_T'].iloc()[0]//period_length + 1)\n",
    "\n",
    "delta_l7_iw = list(range(a1-1,(a1+dw_I-1+1)+1)) # assume safety buffer 1 time period, and at least including range(a1,(a1+dw_I-1)+1)\n",
    "delta_l7_tw = list(range(a2-1,(a2+dw_T-1+1)+1) )# assume safety buffer 1 time period, and at least including range(a2,(a2+dw_T-1)+1)\n",
    "print(f'For line7, the time intermediate stop wharf has been occupied is {delta_l7_iw}, the time terminus wharf has been occupied is {delta_l7_tw}')\n",
    "\n",
    "# if j is not a line\n",
    "# Example: crew pause\n",
    "delta_j_j = [i for i in range(cal_mu('cp_CQ1'))]\n",
    "print(f'For crew pause, the time a wharf has been occupied is {delta_j_j}') \n"
   ]
  },
  {
   "cell_type": "code",
   "execution_count": 24,
   "metadata": {},
   "outputs": [
    {
     "data": {
      "text/plain": [
       "'Mosman'"
      ]
     },
     "execution_count": 24,
     "metadata": {},
     "output_type": "execute_result"
    }
   ],
   "source": [
    "# A(l)\n",
    "# Given a line l, we denote by A(l) its last station.\n",
    "\n",
    "# Example: line1's A(l)\n",
    "cal_R_l(1)[-1]"
   ]
  },
  {
   "cell_type": "code",
   "execution_count": 25,
   "metadata": {},
   "outputs": [
    {
     "name": "stdout",
     "output_type": "stream",
     "text": [
      "The number of time periods from the start of a sailing until arrival at the last station of line 1, F(1), is 4\n",
      "The number of time periods a wharf is occupied at the last station by line 1, μ_F(1), is 2\n"
     ]
    }
   ],
   "source": [
    "# F (l) Function\n",
    "\n",
    "def cal_F(l):\n",
    "    \"\"\"\n",
    "    Calculate the number of time periods from the start of a sailing until arrival at the last station of line l.\n",
    "    \n",
    "    Args:\n",
    "    l (int): Line number\n",
    "    \n",
    "    Returns:\n",
    "    int: Time periods until arrival at the last station\n",
    "    \n",
    "    Raises:\n",
    "    ValueError: If line number does not exist or required data is missing.\n",
    "    \"\"\"\n",
    "    try:\n",
    "        if not isinstance(l, int):\n",
    "            raise ValueError(\"Line number must be an integer.\")\n",
    "        \n",
    "        time_underway_to_T = line_df[line_df['Line_No'] == l]['Time_underway_to_T'].iloc()[0]\n",
    "        F_l = time_underway_to_T // period_length + 1\n",
    "        return F_l\n",
    "    except IndexError:\n",
    "        raise ValueError(f\"No data available for line number {l}.\")\n",
    "    except KeyError:\n",
    "        raise ValueError(\"Missing 'Time_underway_to_T' in line_df.\")\n",
    "\n",
    "# muF(l)\n",
    "\n",
    "def cal_muF(l):\n",
    "    \"\"\"\n",
    "    Calculate the number of time periods a wharf is occupied at the last station by line l, including any safety buffer.\n",
    "    \n",
    "    Args:\n",
    "    l (int): Line number\n",
    "    \n",
    "    Returns:\n",
    "    int: Time periods a wharf is occupied\n",
    "    \n",
    "    Raises:\n",
    "    ValueError: If line number does not exist or required data is missing.\n",
    "    \"\"\"\n",
    "    try:\n",
    "        if not isinstance(l, int):\n",
    "            raise ValueError(\"Line number must be an integer.\")\n",
    "        \n",
    "        dw_T = line_df[line_df['Line_No'] == l]['dw_T'].iloc()[0]\n",
    "        muF_l = dw_T // period_length + 1\n",
    "        return muF_l\n",
    "    except IndexError:\n",
    "        raise ValueError(f\"No data available for line number {l}.\")\n",
    "    except KeyError:\n",
    "        raise ValueError(\"Missing 'dw_T' in line_df.\")\n",
    "\n",
    "# Example: line1:\n",
    "print(f'The number of time periods from the start of a sailing until arrival at the last station of line 1, F(1), is {cal_F(1)}')\n",
    "print(f'The number of time periods a wharf is occupied at the last station by line 1, \\u03BC_F(1), is {cal_muF(1)}')"
   ]
  },
  {
   "cell_type": "code",
   "execution_count": 26,
   "metadata": {},
   "outputs": [
    {
     "name": "stdout",
     "output_type": "stream",
     "text": [
      "The set of time periods  [88, 89, 90, 91, 92, 93, 94, 95, 96, 97, 98, 99, 100]  for crew pause to be still ongoing at the 100th time period\n"
     ]
    }
   ],
   "source": [
    "# phi(j,t) Function\n",
    "\n",
    "def cal_phi(j, t):\n",
    "    \"\"\"\n",
    "    Calculate a set of time periods within which if a task j starts, it will still be ongoing at time t.\n",
    "    \n",
    "    Parameters:\n",
    "    j (int or str): The task identifier.\n",
    "    t (int): The time period at which task j is still ongoing if started within the returned set.\n",
    "    \n",
    "    Returns:\n",
    "    list: A list of time periods representing possible start times for task j to be ongoing at time t.\n",
    "    \n",
    "    Raises:\n",
    "    ValueError: If the inputs are not valid or the time period is out of expected range.\n",
    "    \"\"\"\n",
    "    try:\n",
    "        # Check if t is a valid input\n",
    "        if not isinstance(t, int) or t < 1:\n",
    "            raise ValueError(\"Time period t must be a positive integer.\")\n",
    "\n",
    "        mu_j = cal_mu(j)  # Duration that task j occupies\n",
    "        if mu_j is None:\n",
    "            raise ValueError(f\"No duration found for task {j}. It may be unrecognized.\")\n",
    "\n",
    "        # Compute the range of start times\n",
    "        phi_j_t = list(range(max(1, t - mu_j + 1), t + 1))\n",
    "        return phi_j_t\n",
    "    except Exception as e:\n",
    "        raise ValueError(f\"An error occurred calculating φ(j, t): {str(e)}\")\n",
    "\n",
    "# Example: doing crew pause \n",
    "t = 100 # assumed \n",
    "print('The set of time periods ',cal_phi('cp_CQ1', t),' for crew pause to be still ongoing at the 100th time period')"
   ]
  },
  {
   "cell_type": "code",
   "execution_count": 27,
   "metadata": {},
   "outputs": [
    {
     "name": "stdout",
     "output_type": "stream",
     "text": [
      "The last time for crew pause to be schedule is at the  276 th time peried starts\n"
     ]
    }
   ],
   "source": [
    "# f_j(j) Function\n",
    "\n",
    "def cal_f_j(j):\n",
    "    \"\"\"\n",
    "    Determines the latest feasible start time for task `j` so that it finishes before the day ends.\n",
    "\n",
    "    Parameters:\n",
    "    j (str or int): Task identifier. Can be an integer for line tasks or a string for specific wharves or tasks.\n",
    "\n",
    "    Returns:\n",
    "    int or None: The last valid starting period for the task, or None if the task cannot be completed in a day or an error occurs in processing.\n",
    "    \"\"\"\n",
    "    try:\n",
    "        # Validate that Tset is properly defined and not empty\n",
    "        if not Tset:\n",
    "            raise ValueError(\"Tset is not defined or is empty.\")\n",
    "        \n",
    "        last_period = Tset[-1]  # Last time period in the set\n",
    "        \n",
    "        # Calculate mu(j) based on the type of task\n",
    "        if j in Lset:\n",
    "            mu_j = line_df[line_df['Line_No'] == j]['Line_duration'].iloc()[0] // period_length + 1\n",
    "        elif j in Bc:\n",
    "            mu_j = Dc // period_length + 1\n",
    "        elif j in Bplus or j in B:\n",
    "            mu_j = 1  # Fixed duration for waiting tasks\n",
    "        else:\n",
    "            # If task j is unrecognized\n",
    "            return None\n",
    "\n",
    "        # Calculate the latest feasible start time\n",
    "        last_start_time = last_period + 1 - mu_j\n",
    "        return last_start_time\n",
    "    except Exception as e:\n",
    "        print(f\"An error occurred: {e}\")\n",
    "        return None\n",
    "\n",
    "\n",
    "print('The last time for crew pause to be schedule is at the ',cal_f_j('cp_CQ1')  ,'th time peried starts')  "
   ]
  },
  {
   "cell_type": "code",
   "execution_count": 28,
   "metadata": {},
   "outputs": [
    {
     "name": "stdout",
     "output_type": "stream",
     "text": [
      "G(l1), the set of valid times for line 1 can be started is [19, 26, 33, 40, 20, 27, 34, 41, 21, 28, 35, 42, 22, 29, 36, 43, 23, 30, 37, 44, 24, 31, 38, 45, 25, 32, 39, 46]\n"
     ]
    }
   ],
   "source": [
    "# G(l)   Function\n",
    "\n",
    "def cal_G_j(j):\n",
    "    \"\"\"\n",
    "    Calculate the set of valid start times for task j.\n",
    "    \n",
    "    If j is a line, G(j) includes times based on headways and initial days from D(l).\n",
    "    If j is a crew pause, waiting, or charging, G(j) includes all times in Tset.\n",
    "\n",
    "    Args:\n",
    "    j (int or str): The task identifier.\n",
    "\n",
    "    Returns:\n",
    "    list: List of valid start times for the task j.\n",
    "\n",
    "    Raises:\n",
    "    ValueError: If task j is unrecognized or essential data is missing.\n",
    "    \"\"\"\n",
    "    try:\n",
    "        G_j = []\n",
    "        if j in Lset:  # a line\n",
    "            headways = headway_df.get(f'h{j}', pd.Series()).dropna().tolist()\n",
    "            if not headways:\n",
    "                raise ValueError(f\"No headway data available for line {j}\")\n",
    "            D_l = cal_D_l(j)  # Assume cal_D_l is defined elsewhere\n",
    "            for d in D_l:\n",
    "                G_j.append(d)\n",
    "                current_time = d\n",
    "                for h in headways:\n",
    "                    num_time_period = int(h // period_length + 1)\n",
    "                    current_time += num_time_period\n",
    "                    G_j.append(current_time)\n",
    "        elif j in Bc or j in B or j in Bplus:  # crew pause / waiting / charging\n",
    "            G_j = Tset.copy()  # Use a copy of Tset to avoid modifying the original\n",
    "        else:\n",
    "            raise ValueError(f\"Task {j} is unrecognized or not handled.\")\n",
    "\n",
    "        return G_j\n",
    "    except Exception as e:\n",
    "        raise ValueError(f\"An error occurred processing task {j}: {str(e)}\")\n",
    "\n",
    "# Example:\n",
    "\n",
    "\n",
    "print(f'G(l1), the set of valid times for line 1 can be started is {cal_G_j(1)}')\n"
   ]
  },
  {
   "cell_type": "code",
   "execution_count": 29,
   "metadata": {},
   "outputs": [],
   "source": [
    "\n",
    "# the set of times in which vessel v can start task j\n"
   ]
  },
  {
   "cell_type": "code",
   "execution_count": 30,
   "metadata": {},
   "outputs": [
    {
     "name": "stdout",
     "output_type": "stream",
     "text": [
      "The set of times vessel FF1 can start doing crew pause at CQ1, is [1, 2, 3, 4, 5, 6, 7, 8, 9, 10, 11, 12, 13, 14, 15, 16, 17, 18, 19, 20, 21, 22, 23, 24, 25, 26, 27, 28, 29, 30, 31, 32, 33, 34, 35, 36, 37, 38, 39, 40, 41, 42, 43, 44, 45, 46, 47, 48, 49, 50, 51, 52, 53, 54, 55, 56, 57, 58, 59, 60, 61, 62, 63, 64, 65, 66, 67, 68, 69, 70, 71, 72, 73, 74, 75, 76, 77, 78, 79, 80, 81, 82, 83, 84, 85, 86, 87, 88, 89, 90, 91, 92, 93, 94, 95, 96, 97, 98, 99, 100, 101, 102, 103, 104, 105, 106, 107, 108, 109, 110, 111, 112, 113, 114, 115, 116, 117, 118, 119, 120, 121, 122, 123, 124, 125, 126, 127, 128, 129, 130, 131, 132, 133, 134, 135, 136, 137, 138, 139, 140, 141, 142, 143, 144, 145, 146, 147, 148, 149, 150, 151, 152, 153, 154, 155, 156, 157, 158, 159, 160, 161, 162, 163, 164, 165, 166, 167, 168, 169, 170, 171, 172, 173, 174, 175, 176, 177, 178, 179, 180, 181, 182, 183, 184, 185, 186, 187, 188, 189, 190, 191, 192, 193, 194, 195, 196, 197, 198, 199, 200, 201, 202, 203, 204, 205, 206, 207, 208, 209, 210, 211, 212, 213, 214, 215, 216, 217, 218, 219, 220, 221, 222, 223, 224, 225, 226, 227, 228, 229, 230, 231, 232, 233, 234, 235, 236, 237, 238, 239, 240, 241, 242, 243, 244, 245, 246, 247, 248, 249, 250, 251, 252, 253, 254, 255, 256, 257, 258, 259, 260, 261, 262, 263, 264, 265, 266, 267, 268, 269, 270, 271, 272, 273, 274, 275, 276]\n"
     ]
    }
   ],
   "source": [
    "# H(v,j) Function\n",
    "\n",
    "def cal_H_vj(v, j):\n",
    "    \"\"\"\n",
    "    Calculate the set of feasible start times H(v,j) for vessel v to start task j.\n",
    "    \n",
    "    Parameters:\n",
    "    v (int): Index of the vessel.\n",
    "    j (int or str): Index of the task, a line or a wharf.\n",
    "    \n",
    "    Returns:\n",
    "    list: List of feasible times or None if start point is not determined.\n",
    "    \"\"\"\n",
    "    try:\n",
    "        S_v = cal_Sv(v)\n",
    "        if pd.isna(S_v):\n",
    "            print(f'The start point of the vessel {v} has not been determined. Please determine it first.')\n",
    "            return None\n",
    "\n",
    "        xi0_vj = cal_xi0(v, j)\n",
    "        f_j = cal_f_j(j)\n",
    "        G_j = cal_G_j(j)\n",
    "\n",
    "        # Filter G(j) to find all t such that ξ0(v, j) ≤ t ≤ f(j)\n",
    "        H_vj = [t for t in G_j if xi0_vj <= t <= f_j]\n",
    "        return H_vj\n",
    "    except Exception as e:\n",
    "        print(f\"An error occurred while calculating H(v, j): {str(e)}\")\n",
    "        return None\n",
    "\n",
    "# Example: \n",
    "print(f'The set of times vessel FF1 can start doing crew pause at CQ1, is',cal_H_vj('FF1', 'cp_CQ1'))"
   ]
  },
  {
   "cell_type": "code",
   "execution_count": 31,
   "metadata": {},
   "outputs": [],
   "source": [
    "# F(j,t)\n",
    "# set of tasks that can be performed-and-finished after task j\n",
    "\n",
    "# ???"
   ]
  },
  {
   "cell_type": "code",
   "execution_count": 32,
   "metadata": {},
   "outputs": [
    {
     "name": "stdout",
     "output_type": "stream",
     "text": [
      "the warf usage, (task, time), is [('l1', 3), ('l1', 4), ('l1', 5), ('l1', 6)] \n"
     ]
    }
   ],
   "source": [
    "# E(w,t)\n",
    "# Example: line 1\n",
    "E_w_t = [('l1',t) for t in delta_l1_w]\n",
    "print(f'the warf usage, (task, time), is {E_w_t} ')"
   ]
  },
  {
   "cell_type": "markdown",
   "metadata": {},
   "source": [
    "# variables and constraints"
   ]
  },
  {
   "cell_type": "code",
   "execution_count": 33,
   "metadata": {},
   "outputs": [],
   "source": [
    "import gurobipy as gp\n",
    "from gurobipy import GRB"
   ]
  },
  {
   "cell_type": "code",
   "execution_count": 34,
   "metadata": {},
   "outputs": [],
   "source": [
    "# Dset: Set of Departures Times\n",
    "D_l = [cal_D_l(l) for l in Lset]\n",
    "Dset = {l: d for l, d in zip(Lset, D_l)}\n",
    "\n",
    "# Zset: Set of Sailing \n",
    "# nl_ls= [len(headway_df[f'h{l}'].dropna().tolist())+1 for l in Lset]\n",
    "# s_ls = [list(range(1,nl+1)) for nl in nl_ls]\n",
    "# Zset = {l: s for l, s in zip(Lset, s_ls)}\n"
   ]
  },
  {
   "cell_type": "code",
   "execution_count": 35,
   "metadata": {},
   "outputs": [
    {
     "name": "stdout",
     "output_type": "stream",
     "text": [
      "Set parameter Username\n",
      "Academic license - for non-commercial use only - expires 2025-06-26\n"
     ]
    }
   ],
   "source": [
    "# Create model\n",
    "model = gp.Model(\"Ferry Timetabling\")\n",
    "\n",
    "# Add x variables\n",
    "x = {}\n",
    "\n",
    "for l in Lset:\n",
    "    for d in Dset[l]:\n",
    "        x[l, d] = model.addVar(vtype=GRB.BINARY, name=f\"x_{l}_{d}\")\n",
    "\n",
    "# Constraint 1a\n",
    "for l in Lset:\n",
    "    model.addConstr(sum(x[l, d] for d in Dset[l]) == 1, name=f\"departure_time_constraint_{l}\")\n",
    "    "
   ]
  },
  {
   "cell_type": "code",
   "execution_count": 36,
   "metadata": {},
   "outputs": [],
   "source": [
    "# variable y[v, j, t]\n",
    "y = {}\n",
    "for v in Vset:  # Loop over vessels\n",
    "    for j in Jset:  # Loop over tasks\n",
    "        for t in Tset:  # Loop over time periods\n",
    "            y[v, j, t] = model.addVar(vtype=GRB.BINARY, name=f\"y_{v}_{j}_{t}\")\n",
    "\n",
    "\n",
    "# 1b Modified\n",
    "for sailing in Zset:  \n",
    "    l = int(sailing.split('_')[0]) # line\n",
    "    s = int(sailing.split('_')[1]) # nth sailing\n",
    "    # print(f'line:{l}')\n",
    "    for d in Dset[l]:  #  \n",
    "        h_sd = cal_h_sd(s,d,l)\n",
    "        t = h_sd\n",
    "        # print(f'If the first sailing start at {d}, the {s}th sailing departure time is {t}')\n",
    "        model.addConstr(sum(y[v, l, t] for v in Vset) == x[l, d],name=f\"assign_vessel_s{s}_d{d}\")\n"
   ]
  },
  {
   "cell_type": "code",
   "execution_count": 37,
   "metadata": {},
   "outputs": [
    {
     "name": "stdout",
     "output_type": "stream",
     "text": [
      "An error occurred while calculating H(v, j): An error occurred: No travel time data available from Circular Quay to Double Bay.\n"
     ]
    },
    {
     "ename": "TypeError",
     "evalue": "argument of type 'NoneType' is not iterable",
     "output_type": "error",
     "traceback": [
      "\u001b[0;31m---------------------------------------------------------------------------\u001b[0m",
      "\u001b[0;31mTypeError\u001b[0m                                 Traceback (most recent call last)",
      "Cell \u001b[0;32mIn[37], line 7\u001b[0m\n\u001b[1;32m      5\u001b[0m \u001b[38;5;28;01mfor\u001b[39;00m j \u001b[38;5;129;01min\u001b[39;00m Jset:\n\u001b[1;32m      6\u001b[0m     H_vj \u001b[38;5;241m=\u001b[39m cal_H_vj(v,j)\n\u001b[0;32m----> 7\u001b[0m     \u001b[38;5;28;01mfor\u001b[39;00m t \u001b[38;5;129;01min\u001b[39;00m [t \u001b[38;5;28;01mfor\u001b[39;00m t \u001b[38;5;129;01min\u001b[39;00m Tset \u001b[38;5;28;01mif\u001b[39;00m t \u001b[38;5;129;01mnot\u001b[39;00m \u001b[38;5;129;01min\u001b[39;00m H_vj]:\n\u001b[1;32m      8\u001b[0m         y[v, j, t]\u001b[38;5;241m.\u001b[39mub \u001b[38;5;241m=\u001b[39m \u001b[38;5;241m0\u001b[39m  \u001b[38;5;66;03m# Set upper bound of y[v,j,t] to 0, effectively making it 0\u001b[39;00m\n",
      "Cell \u001b[0;32mIn[37], line 7\u001b[0m, in \u001b[0;36m<listcomp>\u001b[0;34m(.0)\u001b[0m\n\u001b[1;32m      5\u001b[0m \u001b[38;5;28;01mfor\u001b[39;00m j \u001b[38;5;129;01min\u001b[39;00m Jset:\n\u001b[1;32m      6\u001b[0m     H_vj \u001b[38;5;241m=\u001b[39m cal_H_vj(v,j)\n\u001b[0;32m----> 7\u001b[0m     \u001b[38;5;28;01mfor\u001b[39;00m t \u001b[38;5;129;01min\u001b[39;00m [t \u001b[38;5;28;01mfor\u001b[39;00m t \u001b[38;5;129;01min\u001b[39;00m Tset \u001b[38;5;28;01mif\u001b[39;00m \u001b[43mt\u001b[49m\u001b[43m \u001b[49m\u001b[38;5;129;43;01mnot\u001b[39;49;00m\u001b[43m \u001b[49m\u001b[38;5;129;43;01min\u001b[39;49;00m\u001b[43m \u001b[49m\u001b[43mH_vj\u001b[49m]:\n\u001b[1;32m      8\u001b[0m         y[v, j, t]\u001b[38;5;241m.\u001b[39mub \u001b[38;5;241m=\u001b[39m \u001b[38;5;241m0\u001b[39m  \u001b[38;5;66;03m# Set upper bound of y[v,j,t] to 0, effectively making it 0\u001b[39;00m\n",
      "\u001b[0;31mTypeError\u001b[0m: argument of type 'NoneType' is not iterable"
     ]
    }
   ],
   "source": [
    "# Assume the staring point of every bessel can be decided --> xi0(v,j) = 0 \n",
    "\n",
    "# Constraint 1c # 这里有好多要整理的加进transit times的，需要手动计算时间，还没完成更新\n",
    "for v in Vset:\n",
    "    for j in Jset:\n",
    "        H_vj = cal_H_vj(v,j)\n",
    "        for t in [t for t in Tset if t not in H_vj]:\n",
    "            y[v, j, t].ub = 0  # Set upper bound of y[v,j,t] to 0, effectively making it 0"
   ]
  },
  {
   "cell_type": "code",
   "execution_count": null,
   "metadata": {},
   "outputs": [],
   "source": [
    "# Constraint 1d\n",
    "for t in Tset:\n",
    "    for v in Vset:\n",
    "        li_v = cal_li_v(v)\n",
    "        for j in [l for l in Lset if l not in li_v]:\n",
    "            y[v, j, t].ub = 0  # Set upper bound of y[v,j,t] to 0, effectively making it 0"
   ]
  },
  {
   "cell_type": "code",
   "execution_count": null,
   "metadata": {},
   "outputs": [
    {
     "ename": "KeyError",
     "evalue": "('FF1', 1, 0)",
     "output_type": "error",
     "traceback": [
      "\u001b[0;31m---------------------------------------------------------------------------\u001b[0m",
      "\u001b[0;31mKeyError\u001b[0m                                  Traceback (most recent call last)",
      "Cell \u001b[0;32mIn[58], line 6\u001b[0m\n\u001b[1;32m      4\u001b[0m     xi0_v_j \u001b[38;5;241m=\u001b[39m \u001b[38;5;241m0\u001b[39m  \u001b[38;5;66;03m# Starting time from Sv to task j is assumed to be zero\u001b[39;00m\n\u001b[1;32m      5\u001b[0m t \u001b[38;5;241m=\u001b[39m xi0_v_j\n\u001b[0;32m----> 6\u001b[0m model\u001b[38;5;241m.\u001b[39maddConstr(\u001b[38;5;28;43msum\u001b[39;49m\u001b[43m(\u001b[49m\u001b[43my\u001b[49m\u001b[43m[\u001b[49m\u001b[43mv\u001b[49m\u001b[43m,\u001b[49m\u001b[43m \u001b[49m\u001b[43mj\u001b[49m\u001b[43m,\u001b[49m\u001b[43m \u001b[49m\u001b[43mt\u001b[49m\u001b[43m]\u001b[49m\u001b[43m \u001b[49m\u001b[38;5;28;43;01mfor\u001b[39;49;00m\u001b[43m \u001b[49m\u001b[43mj\u001b[49m\u001b[43m \u001b[49m\u001b[38;5;129;43;01min\u001b[39;49;00m\u001b[43m \u001b[49m\u001b[43mJset\u001b[49m\u001b[43m)\u001b[49m \u001b[38;5;241m==\u001b[39m \u001b[38;5;241m1\u001b[39m,name\u001b[38;5;241m=\u001b[39m\u001b[38;5;124mf\u001b[39m\u001b[38;5;124m\"\u001b[39m\u001b[38;5;124massign_task_j\u001b[39m\u001b[38;5;132;01m{\u001b[39;00mj\u001b[38;5;132;01m}\u001b[39;00m\u001b[38;5;124m_t\u001b[39m\u001b[38;5;132;01m{\u001b[39;00mt\u001b[38;5;132;01m}\u001b[39;00m\u001b[38;5;124m\"\u001b[39m)\n",
      "Cell \u001b[0;32mIn[58], line 6\u001b[0m, in \u001b[0;36m<genexpr>\u001b[0;34m(.0)\u001b[0m\n\u001b[1;32m      4\u001b[0m     xi0_v_j \u001b[38;5;241m=\u001b[39m \u001b[38;5;241m0\u001b[39m  \u001b[38;5;66;03m# Starting time from Sv to task j is assumed to be zero\u001b[39;00m\n\u001b[1;32m      5\u001b[0m t \u001b[38;5;241m=\u001b[39m xi0_v_j\n\u001b[0;32m----> 6\u001b[0m model\u001b[38;5;241m.\u001b[39maddConstr(\u001b[38;5;28msum\u001b[39m(\u001b[43my\u001b[49m\u001b[43m[\u001b[49m\u001b[43mv\u001b[49m\u001b[43m,\u001b[49m\u001b[43m \u001b[49m\u001b[43mj\u001b[49m\u001b[43m,\u001b[49m\u001b[43m \u001b[49m\u001b[43mt\u001b[49m\u001b[43m]\u001b[49m \u001b[38;5;28;01mfor\u001b[39;00m j \u001b[38;5;129;01min\u001b[39;00m Jset) \u001b[38;5;241m==\u001b[39m \u001b[38;5;241m1\u001b[39m,name\u001b[38;5;241m=\u001b[39m\u001b[38;5;124mf\u001b[39m\u001b[38;5;124m\"\u001b[39m\u001b[38;5;124massign_task_j\u001b[39m\u001b[38;5;132;01m{\u001b[39;00mj\u001b[38;5;132;01m}\u001b[39;00m\u001b[38;5;124m_t\u001b[39m\u001b[38;5;132;01m{\u001b[39;00mt\u001b[38;5;132;01m}\u001b[39;00m\u001b[38;5;124m\"\u001b[39m)\n",
      "\u001b[0;31mKeyError\u001b[0m: ('FF1', 1, 0)"
     ]
    }
   ],
   "source": [
    "# Constraint 1e # 第一是constraint定义有问题，第二个是Sv format改了这里还没改。 整个1e都需要重写\n",
    "\n",
    "for v in Vset:   \n",
    "    if Sv[v] != np.nan:  \n",
    "        xi0_v_j = 0  # Starting time from Sv to task j is assumed to be zero\n",
    "    t = xi0_v_j\n",
    "    model.addConstr(sum(y[v, j, t] for j in Jset) == 1,name=f\"assign_task_j{j}_t{t}\")\n"
   ]
  },
  {
   "cell_type": "code",
   "execution_count": null,
   "metadata": {},
   "outputs": [],
   "source": [
    "# Constraint 1f\n",
    "for v in Vset:\n",
    "    for t in Tset:\n",
    "        model.addConstr(sum(y[v, j, t_prime] for j in Jset for t_prime in cal_phi(j, t)) <= 1,name=f\"task_overlap_v{v}_t{t}\")"
   ]
  },
  {
   "cell_type": "code",
   "execution_count": null,
   "metadata": {},
   "outputs": [],
   "source": [
    "# variable z[j, w]\n",
    "z = {}\n",
    "\n",
    "for j in Jset:\n",
    "    C_j = cal_C(j)\n",
    "    for w in C_j: \n",
    "        z[j,w] = model.addVar(vtype=GRB.BINARY, name=f\"z_{j}_{w}\")\n",
    "\n",
    "        "
   ]
  },
  {
   "cell_type": "code",
   "execution_count": null,
   "metadata": {},
   "outputs": [],
   "source": [
    "# Constraint 1g\n",
    "\n",
    "for l in Lset:\n",
    "    R_l = cal_R_l(l)\n",
    "    A_l = R_l[-1] # last station\n",
    "    for S in [S for S in R_l if S != A_l]:\n",
    "        C_lS = cal_C_lS(S)\n",
    "        model.addConstr(sum(z[l, w] for w in C_lS) == 1,name=f\"select_one_wharf_{l}_station_{S}\")"
   ]
  },
  {
   "cell_type": "code",
   "execution_count": null,
   "metadata": {},
   "outputs": [],
   "source": [
    "# variable Z[l, w, t]\n",
    "Z = {}\n",
    "for l in Lset:\n",
    "    A_l = cal_R_l(l)[-1]\n",
    "    C_lS = cal_C_lS(A_l)\n",
    "    for w in C_lS:\n",
    "        for t in Tset:\n",
    "            Z[l, w, t] = model.addVar(vtype=GRB.BINARY, name=f\"Z_{l}_{w}_{t}\")\n",
    "\n",
    "\n",
    "# # Constraint 1h\n",
    "\n",
    "# for l in Lset:\n",
    "#     F_l = cal_F(l)\n",
    "#     for t in Tset:\n",
    "#         if t >= F_l:\n",
    "#             A_l = cal_R_l(l)[-1]\n",
    "#             C_lS = cal_C_lS(A_l)\n",
    "#             model.addConstr(sum(Z[l, w, t] for w in C_lS) == sum(y[v, l, t - F_l] for v in Vset),name=f\"last_wharf_use_{l}_t{t}\")"
   ]
  },
  {
   "cell_type": "code",
   "execution_count": null,
   "metadata": {},
   "outputs": [],
   "source": []
  }
 ],
 "metadata": {
  "kernelspec": {
   "display_name": "Python 3",
   "language": "python",
   "name": "python3"
  },
  "language_info": {
   "codemirror_mode": {
    "name": "ipython",
    "version": 3
   },
   "file_extension": ".py",
   "mimetype": "text/x-python",
   "name": "python",
   "nbconvert_exporter": "python",
   "pygments_lexer": "ipython3",
   "version": "3.10.11"
  }
 },
 "nbformat": 4,
 "nbformat_minor": 2
}
